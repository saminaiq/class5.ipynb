{
  "nbformat": 4,
  "nbformat_minor": 0,
  "metadata": {
    "colab": {
      "provenance": [],
      "authorship_tag": "ABX9TyNL4R+N57RK39BLD8XNtSTK",
      "include_colab_link": true
    },
    "kernelspec": {
      "name": "python3",
      "display_name": "Python 3"
    },
    "language_info": {
      "name": "python"
    }
  },
  "cells": [
    {
      "cell_type": "markdown",
      "metadata": {
        "id": "view-in-github",
        "colab_type": "text"
      },
      "source": [
        "<a href=\"https://colab.research.google.com/github/saminaiq/class5.ipynb/blob/main/class_5.ipynb\" target=\"_parent\"><img src=\"https://colab.research.google.com/assets/colab-badge.svg\" alt=\"Open In Colab\"/></a>"
      ]
    },
    {
      "cell_type": "code",
      "execution_count": null,
      "metadata": {
        "colab": {
          "base_uri": "https://localhost:8080/"
        },
        "id": "hxZwDVKvzJxQ",
        "outputId": "fd0328d6-d823-4c39-f5f2-0ecc8fd30ed8"
      },
      "outputs": [
        {
          "output_type": "stream",
          "name": "stdout",
          "text": [
            "10\n",
            "9\n",
            "8\n",
            "7\n",
            "6\n",
            "5\n",
            "4\n",
            "3\n",
            "2\n",
            "1\n"
          ]
        }
      ],
      "source": [
        "import time\n",
        "for i in range (10,0,-1):\n",
        "\n",
        "  print(i)"
      ]
    },
    {
      "cell_type": "markdown",
      "source": [
        "\n",
        "# project 2: Guess the Number Gyme python project (computer)**bold text**"
      ],
      "metadata": {
        "id": "X2YF7V-u0fR4"
      }
    },
    {
      "cell_type": "code",
      "source": [
        "import random\n",
        "\n",
        "low = 1\n",
        "high = 10\n",
        "computer_num = random.randint(low, high)\n",
        "\n",
        "print(f\"Computer ka pehla guess hai: {computer_num}\")\n",
        "\n",
        "while True:\n",
        "    feedback = input(\"Agar number chhota hai to 'chhota' likhein, agar bara hai to 'bara' likhein, aur agar sahi hai to 'sahi' likhein: \").lower()\n",
        "\n",
        "    if feedback == \"sahi\":\n",
        "        print(f\"Computer ne sahi guess kar liya! 🎉 Number tha: {computer_num}\")\n",
        "        break\n",
        "    elif feedback == \"chhota\":\n",
        "        print(\"Too Low..\")\n",
        "        low = computer_num + 1\n",
        "    elif feedback == \"bara\":\n",
        "        print(\"Too High..\")\n",
        "        high = computer_num - 1\n",
        "    else:\n",
        "        print(\"Galat input! sirf .bara, chota ,ya ,shai likho.\")\n",
        "        continue\n",
        "\n",
        "    if low > high:\n",
        "        print(\"Lagta hai kuch ghalat ho gaya hai! Kya aap number bhool gaye? 🤔\")\n",
        "        break\n",
        "\n",
        "    computer_num = random.randint(low, high)\n",
        "    print(f\"Computer ka naya guess hai: {computer_num}\")\n",
        "else:\n",
        "    print(\"Galat input! sirf .bara, chota ,ya ,shai likho.\")\n",
        "\n"
      ],
      "metadata": {
        "colab": {
          "base_uri": "https://localhost:8080/"
        },
        "id": "LElYkUGy01NF",
        "outputId": "1d967738-a287-464d-f287-60a371fbfc88"
      },
      "execution_count": null,
      "outputs": [
        {
          "output_type": "stream",
          "name": "stdout",
          "text": [
            "Computer ka pehla guess hai: 3\n",
            "Agar number chhota hai to 'chhota' likhein, agar bara hai to 'bara' likhein, aur agar sahi hai to 'sahi' likhein: 4\n",
            "Galat input! sirf .bara, chota ,ya ,shai likho.\n",
            "Agar number chhota hai to 'chhota' likhein, agar bara hai to 'bara' likhein, aur agar sahi hai to 'sahi' likhein: chota\n",
            "Galat input! sirf .bara, chota ,ya ,shai likho.\n",
            "Agar number chhota hai to 'chhota' likhein, agar bara hai to 'bara' likhein, aur agar sahi hai to 'sahi' likhein: shai\n",
            "Galat input! sirf .bara, chota ,ya ,shai likho.\n",
            "Agar number chhota hai to 'chhota' likhein, agar bara hai to 'bara' likhein, aur agar sahi hai to 'sahi' likhein: bara\n",
            "Too High..\n",
            "Computer ka naya guess hai: 2\n",
            "Agar number chhota hai to 'chhota' likhein, agar bara hai to 'bara' likhein, aur agar sahi hai to 'sahi' likhein: 3\n",
            "Galat input! sirf .bara, chota ,ya ,shai likho.\n"
          ]
        }
      ]
    },
    {
      "cell_type": "markdown",
      "source": [],
      "metadata": {
        "id": "0-N2F6Gi0fI8"
      }
    },
    {
      "cell_type": "code",
      "source": [],
      "metadata": {
        "id": "fVkLie3d0XDS"
      },
      "execution_count": null,
      "outputs": []
    }
  ]
}